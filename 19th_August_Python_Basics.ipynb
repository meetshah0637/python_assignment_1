{
 "cells": [
  {
   "cell_type": "markdown",
   "id": "badf6536-8306-4fd3-806d-bce61b8f01cc",
   "metadata": {},
   "source": [
    "Declare two variables, `x` and `y`, and assign them integer values. Swap the\n",
    "values of these variables without using any temporary variable.\n"
   ]
  },
  {
   "cell_type": "code",
   "execution_count": 9,
   "id": "b045b40d-17df-448f-b0ba-35542c27c963",
   "metadata": {},
   "outputs": [
    {
     "name": "stdout",
     "output_type": "stream",
     "text": [
      "45\n",
      "30\n"
     ]
    }
   ],
   "source": [
    "x = 30\n",
    "y = 45\n",
    "x = x+15\n",
    "y = y-15\n",
    "\n",
    "print(x)\n",
    "print(y)\n"
   ]
  },
  {
   "cell_type": "markdown",
   "id": "dfff4bb9-5edc-4368-ae76-cefb53eca59d",
   "metadata": {},
   "source": [
    "Create a program that calculates the area of a rectangle. Take the length and\n",
    "width as inputs from the user and store them in variables. Calculate and\n",
    "display the area."
   ]
  },
  {
   "cell_type": "code",
   "execution_count": 12,
   "id": "72294b6b-8fe9-4700-851a-071082eb24db",
   "metadata": {},
   "outputs": [
    {
     "name": "stdin",
     "output_type": "stream",
     "text": [
      "Enter the length 45\n",
      "Enter the width 56\n"
     ]
    },
    {
     "name": "stdout",
     "output_type": "stream",
     "text": [
      "The ares of rectangle is 2520\n"
     ]
    }
   ],
   "source": [
    "length = input('Enter the length')\n",
    "width = input('Enter the width')\n",
    "\n",
    "area = int(length) * int(width)\n",
    "\n",
    "print('The ares of rectangle is', area)"
   ]
  },
  {
   "cell_type": "markdown",
   "id": "4e7549d0-7f6d-4814-b038-b2bc1847c19c",
   "metadata": {},
   "source": [
    "Write a Python program that converts temperatures from Celsius to\n",
    "Fahrenheit. Take the temperature in Celsius as input, store it in a variable,\n",
    "convert it to Fahrenheit, and display the result."
   ]
  },
  {
   "cell_type": "code",
   "execution_count": 14,
   "id": "9ad4dce0-7bf3-444e-b949-c0db9dc36c95",
   "metadata": {},
   "outputs": [
    {
     "name": "stdin",
     "output_type": "stream",
     "text": [
      "Enter temperature in celsius 45\n"
     ]
    },
    {
     "name": "stdout",
     "output_type": "stream",
     "text": [
      "Temp in fahrenheit is 113.0\n"
     ]
    }
   ],
   "source": [
    "celsius = input('Enter temperature in celsius')\n",
    "fahrenheit = (int(celsius) * 9/5) + 32 \n",
    "print('Temp in fahrenheit is', fahrenheit)\n"
   ]
  },
  {
   "cell_type": "markdown",
   "id": "eaf33643-ec08-4b81-b2d7-8cf4ced21935",
   "metadata": {},
   "source": [
    "Write a Python program that takes a string as input and prints the length of\n",
    "the string."
   ]
  },
  {
   "cell_type": "code",
   "execution_count": 19,
   "id": "3e03e6e9-de5b-43ea-a4e6-80a6a8a510f8",
   "metadata": {},
   "outputs": [
    {
     "name": "stdin",
     "output_type": "stream",
     "text": [
      "Enter your string meet\n"
     ]
    },
    {
     "name": "stdout",
     "output_type": "stream",
     "text": [
      "4\n"
     ]
    }
   ],
   "source": [
    "str = input('Enter your string')\n",
    "\n",
    "print(len(str))"
   ]
  },
  {
   "cell_type": "markdown",
   "id": "a8c1f291-ede5-4809-82a9-2098ab0b6838",
   "metadata": {},
   "source": [
    "Create a program that takes a sentence from the user and counts the number\n",
    "of vowels (a, e, i, o, u) in the string."
   ]
  },
  {
   "cell_type": "code",
   "execution_count": 28,
   "id": "f04aece7-aa3d-4412-ad41-a3c9b59a60d5",
   "metadata": {},
   "outputs": [
    {
     "name": "stdin",
     "output_type": "stream",
     "text": [
      "Enter the sentence meet is an elegant person\n"
     ]
    },
    {
     "name": "stdout",
     "output_type": "stream",
     "text": [
      "9\n"
     ]
    }
   ],
   "source": [
    "s = input('Enter the sentence')\n",
    "sum = s.count('a')+s.count('e')+s.count('i')+s.count('o')+s.count('u')\n",
    "print(sum)"
   ]
  },
  {
   "cell_type": "markdown",
   "id": "595d6008-e369-4aa2-9f59-96ee4efc1912",
   "metadata": {},
   "source": [
    "Given a string, reverse the order of characters using string slicing and print\n",
    "the reversed string."
   ]
  },
  {
   "cell_type": "code",
   "execution_count": 29,
   "id": "d24e64bb-62c5-4837-a53d-d774bdddfe36",
   "metadata": {},
   "outputs": [
    {
     "name": "stdin",
     "output_type": "stream",
     "text": [
      "Enter the string Meet\n"
     ]
    },
    {
     "name": "stdout",
     "output_type": "stream",
     "text": [
      "teeM\n"
     ]
    }
   ],
   "source": [
    "s = input('Enter the string')\n",
    "\n",
    "r = s[::-1]\n",
    "print(r)"
   ]
  },
  {
   "cell_type": "markdown",
   "id": "b6fe838e-b5a5-48af-959d-675c5f736846",
   "metadata": {},
   "source": [
    "Write a program that takes a string as input and checks if it is a palindrome\n",
    "(reads the same forwards and backwards)."
   ]
  },
  {
   "cell_type": "code",
   "execution_count": 32,
   "id": "d01335f0-3ca3-4a5d-ae4b-0e8ebf82418c",
   "metadata": {},
   "outputs": [
    {
     "name": "stdin",
     "output_type": "stream",
     "text": [
      "Enter the sentence lol\n"
     ]
    },
    {
     "name": "stdout",
     "output_type": "stream",
     "text": [
      "It is palindrome\n"
     ]
    }
   ],
   "source": [
    "s = input('Enter the sentence')\n",
    "\n",
    "if(s == s[::-1]):\n",
    "    print('It is palindrome')\n",
    "else:\n",
    "    print('Not a plaindrome')\n",
    "       \n",
    "       "
   ]
  },
  {
   "cell_type": "markdown",
   "id": "e620c0fd-2c8e-4b6f-a9b5-0b1d86e8941d",
   "metadata": {},
   "source": [
    "Create a program that takes a string as input and removes all the spaces from\n",
    "it. Print the modified string without spaces."
   ]
  },
  {
   "cell_type": "code",
   "execution_count": 36,
   "id": "1b00f34e-9a80-46d3-8bfd-0b69514fe81c",
   "metadata": {},
   "outputs": [
    {
     "name": "stdin",
     "output_type": "stream",
     "text": [
      "Enter the sentence Meet is a cool person\n"
     ]
    },
    {
     "name": "stdout",
     "output_type": "stream",
     "text": [
      "Meetisacoolperson\n"
     ]
    }
   ],
   "source": [
    "s = input('Enter the sentence')\n",
    "print(s.replace(\" \", \"\"))\n"
   ]
  }
 ],
 "metadata": {
  "kernelspec": {
   "display_name": "Python 3 (ipykernel)",
   "language": "python",
   "name": "python3"
  },
  "language_info": {
   "codemirror_mode": {
    "name": "ipython",
    "version": 3
   },
   "file_extension": ".py",
   "mimetype": "text/x-python",
   "name": "python",
   "nbconvert_exporter": "python",
   "pygments_lexer": "ipython3",
   "version": "3.10.8"
  }
 },
 "nbformat": 4,
 "nbformat_minor": 5
}
